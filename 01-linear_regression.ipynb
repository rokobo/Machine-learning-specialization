{
 "cells": [
  {
   "cell_type": "code",
   "execution_count": 18,
   "metadata": {},
   "outputs": [],
   "source": [
    "import numpy as np\n",
    "from numpy.typing import NDArray\n",
    "import matplotlib.pyplot as plt\n",
    "from utils import *\n",
    "import copy\n",
    "import math\n",
    "%matplotlib inline"
   ]
  },
  {
   "cell_type": "markdown",
   "metadata": {},
   "source": [
    "**Problem Statement**\n",
    "\n",
    "The CEO of a restaurant franchise is considering different cities for opening a new outlet. He wants to expand his business to cities that may give his restaurant higher profits. The chain already has restaurants in various cities and you have data for profits and populations from the cities. You also have data on cities that are candidates for a new restaurant. For these cities, you have the city population. The analysis done for identifying which cities may potentially give his business higher profits is as follow:"
   ]
  },
  {
   "cell_type": "code",
   "execution_count": 5,
   "metadata": {},
   "outputs": [],
   "source": [
    "# Load provided data\n",
    "data = np.loadtxt(\"data/linear_regression1.txt\", delimiter=',')\n",
    "x_train, y_train = data[:,0], data[:,1]\n",
    "assert x_train.shape == y_train.shape"
   ]
  },
  {
   "cell_type": "code",
   "execution_count": 98,
   "metadata": {},
   "outputs": [],
   "source": [
    "# Define visualization function\n",
    "def visualize(x: NDArray, y: NDArray, line: NDArray = None) -> None:\n",
    "    \"\"\"\n",
    "    Generates scatter plot for data visualization\n",
    "\n",
    "    Args:\n",
    "        x (NDArray): x values.\n",
    "        y (NDArray): y values.\n",
    "        line (NDArray): Values to create a line (optional).\n",
    "    \"\"\"\n",
    "    plt.scatter(x_train, y_train, marker='x', color='r') \n",
    "    plt.title(\"Profits vs. Population per city\")\n",
    "    plt.ylabel('Profit in $10,000')\n",
    "    plt.xlabel('Population of City in 10,000s')\n",
    "    \n",
    "    if line is not None:\n",
    "        plt.plot(x_train, line, color='b')\n",
    "    plt.show()"
   ]
  },
  {
   "cell_type": "markdown",
   "metadata": {},
   "source": [
    "Create a cost function implementation using the cost function formula:\n",
    "$$\n",
    "J(w, b)=\\frac 1 {2m} \\sum_{i=0}^{m-1} \\big( \\hat y^{(i)}-y^{(i)}\\big)^2\n",
    "$$"
   ]
  },
  {
   "cell_type": "code",
   "execution_count": 19,
   "metadata": {},
   "outputs": [],
   "source": [
    "def cost_function(x: NDArray, y: NDArray, w: float, b: float) -> float:\n",
    "    \"\"\"\n",
    "    Model cost function.\n",
    "\n",
    "    Args:\n",
    "        x (NDArray): Population of the city.\n",
    "        y (NDArray): Restaurant profit.\n",
    "        w (float): Linear parameter.\n",
    "        b (float): Constant parameter.\n",
    "\n",
    "    Returns:\n",
    "        float: Cost value.\n",
    "    \"\"\"\n",
    "    m = x.shape[0]\n",
    "    total_cost = 0\n",
    "    for i in range(m):\n",
    "        prediction = (x[i] * w) + b\n",
    "        correct_value = y[i]\n",
    "        cost = (prediction - correct_value) ** 2\n",
    "        total_cost += cost\n",
    "    return total_cost / (2 * m)\n",
    "\n",
    "assert np.isclose(cost_function(x_train, y_train, 2, 1), 75.203)"
   ]
  },
  {
   "cell_type": "markdown",
   "metadata": {},
   "source": [
    "Implement gradient descent using the following formulas for each step:\n",
    "$$\n",
    "w=w - \\bigg(\\alpha \\frac{d}{d w}J( w, b)\\bigg)\n",
    "$$\n",
    "$$\n",
    "b=b - \\bigg(\\alpha \\frac{d}{db}J( w, b)\\bigg)\n",
    "$$\n",
    "Doing the derivative we arrive at the folowing simplified formulas:\n",
    "$$\n",
    "w=w-\\frac \\alpha {m} \\sum_{i=0}^{m-1} \\big( f_{ w,b}(x^{(i)}) -y^{(i)}\\big)x^{(i)}\n",
    "$$\n",
    "$$\n",
    "b=b-\\frac \\alpha {m} \\sum_{i=0}^{m-1} \\big( f_{ w,b}(x^{(i)}) -y^{(i)}\\big)\n",
    "$$"
   ]
  },
  {
   "cell_type": "code",
   "execution_count": 79,
   "metadata": {},
   "outputs": [],
   "source": [
    "def calculate_gradient(x: NDArray, y: NDArray,\n",
    "        w: float, b: float, alpha: float) -> tuple[float, float]: \n",
    "    \"\"\"\n",
    "    Calculates gradient for w and b parameters.\n",
    "\n",
    "    Args:\n",
    "        x (NDArray): Population of the city.\n",
    "        y (NDArray): Restaurant profit.\n",
    "        w (float): Linear parameter.\n",
    "        b (float): Constant parameter.\n",
    "        alpha (float): Learning rate.\n",
    "\n",
    "    Returns:\n",
    "        tuple[float, float]: Gradient cost of parameters w and b.\n",
    "    \"\"\"\n",
    "    m = x.shape[0]\n",
    "    predictions_offset = (w * x) + b - y\n",
    "    w_gradient = (alpha / m) * np.sum(predictions_offset * x)\n",
    "    b_gradient = (alpha / m) * np.sum(predictions_offset)\n",
    "    return w_gradient, b_gradient"
   ]
  },
  {
   "cell_type": "markdown",
   "metadata": {},
   "source": [
    "Find the optimal parameters using batch gradient descent"
   ]
  },
  {
   "cell_type": "code",
   "execution_count": 77,
   "metadata": {},
   "outputs": [],
   "source": [
    "def gradient_descent(x: NDArray, y: NDArray, wi: float, bi: float,\n",
    "    alpha: float, cost_func, gradient_func, iterations: int\n",
    ") -> tuple[float, float, list[float], list[float], list[float]]:\n",
    "    \"\"\"\n",
    "    Performs batch gradient descent to learn theta.\n",
    "\n",
    "    Args:\n",
    "        x (NDArray): Population of the city.\n",
    "        y (NDArray): Restaurant profit.\n",
    "        wi (float): Linear parameter (initial value).\n",
    "        bi (float): Constant parameter (initial value).\n",
    "        alpha (float): Learning rate.\n",
    "        cost_func: Cost function.\n",
    "        gradient_func: Gradient function.\n",
    "        iterations (int): Number of iterations to perform gradient descent.\n",
    "\n",
    "    Returns:\n",
    "        tuple[float, float, list[float], list[float]]:\n",
    "            - Optimal w parameter.\n",
    "            - Optimal b parameter.\n",
    "            - History of cost.\n",
    "            - History of w parameter.\n",
    "            - History of b parameter.\n",
    "    \"\"\"\n",
    "    m = len(x)\n",
    "    J_history = []\n",
    "    w_history = []\n",
    "    b_history = []\n",
    "    w = copy.deepcopy(wi)\n",
    "    b = copy.deepcopy(bi)\n",
    "\n",
    "    for i in range(iterations):\n",
    "        w_gradient, b_gradient = calculate_gradient(x, y, w, b, alpha)\n",
    "        w -= w_gradient\n",
    "        b -= b_gradient\n",
    "        cost = cost_func(x, y, w, b)\n",
    "        J_history.append(cost)\n",
    "        w_history.append(w)\n",
    "        b_history.append(b)\n",
    "    return w, b, J_history, w_history, b_history"
   ]
  },
  {
   "cell_type": "code",
   "execution_count": 99,
   "metadata": {},
   "outputs": [
    {
     "data": {
      "image/png": "[encoded data removed]",
      "text/plain": [
       "<Figure size 640x480 with 1 Axes>"
      ]
     },
     "metadata": {},
     "output_type": "display_data"
    }
   ],
   "source": [
    "# Run the algorithm\n",
    "initial_w = 0\n",
    "initial_b = 0\n",
    "iterations = 1500\n",
    "alpha = 0.01\n",
    "\n",
    "w, b, J_history, w_history, b_history = gradient_descent(\n",
    "    x_train, y_train, initial_w, initial_b, alpha,\n",
    "    cost_function, calculate_gradient, iterations)\n",
    "\n",
    "# Calculate predictions and plot\n",
    "m = x_train.shape[0]\n",
    "predicted = np.zeros(m)\n",
    "for i in range(m):\n",
    "    predicted[i] = w * x_train[i] + b\n",
    "\n",
    "visualize(x_train, y_train, predicted)"
   ]
  }
 ],
 "metadata": {
  "kernelspec": {
   "display_name": "python_env2",
   "language": "python",
   "name": "python3"
  },
  "language_info": {
   "codemirror_mode": {
    "name": "ipython",
    "version": 3
   },
   "file_extension": ".py",
   "mimetype": "text/x-python",
   "name": "python",
   "nbconvert_exporter": "python",
   "pygments_lexer": "ipython3",
   "version": "3.10.13"
  },
  "orig_nbformat": 4
 },
 "nbformat": 4,
 "nbformat_minor": 2
}
